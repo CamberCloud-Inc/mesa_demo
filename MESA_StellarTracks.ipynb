{
 "cells": [
  {
   "cell_type": "markdown",
   "id": "23db8f90-95dc-495f-86f0-a6d17712eddd",
   "metadata": {},
   "source": [
    "In this tutorial, we quickly generate some Modules for Experiments in Stellar Astrophysics (MESA) Stellar Tracks! We will watch a population of stars evolve from the pre-main-sequence (pMS) to the zero-age-main-sequence (ZAMS) and we will evolve them once more to the end of their hydrogen core-burning phase of evolution. "
   ]
  },
  {
   "cell_type": "code",
   "execution_count": 1,
   "id": "39c17668-29a4-4066-be17-5c863847376c",
   "metadata": {
    "tags": []
   },
   "outputs": [],
   "source": [
    "import pandas as pd \n",
    "import numpy as np\n",
    "import camber, os\n",
    "import smplotlib\n",
    "import matplotlib.pyplot as plt\n",
    "%matplotlib inline\n",
    "import mesa_reader as mr"
   ]
  },
  {
   "cell_type": "markdown",
   "id": "d327e702-295a-43e2-824f-7518cfc3e855",
   "metadata": {},
   "source": [
    "We begin by defining a simple function to create an ensemble of stellar tracks, ranging in mass from m1-m2 with an interval size dm."
   ]
  },
  {
   "cell_type": "code",
   "execution_count": 2,
   "id": "34f02910-4ff5-41eb-9e5c-7c25247d4657",
   "metadata": {
    "tags": []
   },
   "outputs": [],
   "source": [
    "def create_table(m1, m2, dm):\n",
    "    # Calculate the number of intervals\n",
    "    num_intervals = int((m2 - m1) / dm) + 1    \n",
    "    # Generate the values based on the intervals\n",
    "    values = [m1 + i * dm for i in range(num_intervals)]\n",
    "    # Generate ZAMS file names\n",
    "    zams_file = [f\"{val}Msun_zams.mod\" for val in values]\n",
    "    hcore_file = [f\"{val}Msun_hcore.mod\" for val in values]\n",
    "    #outdir= [f\"{val}Msun\" for val in values]\n",
    "    # Create a DataFrame\n",
    "    df = pd.DataFrame({'mass': values, 'zams_file':zams_file,'hcore_file':hcore_file})\n",
    "    return df"
   ]
  },
  {
   "cell_type": "markdown",
   "id": "7d7392af-9350-4e9e-8078-b646690f4b74",
   "metadata": {},
   "source": [
    "Let's range between 1-2 Msun with an interval of 0.5 Msun. "
   ]
  },
  {
   "cell_type": "code",
   "execution_count": 3,
   "id": "c56ee2eb-a37f-4580-9b13-ef72f9c9df5c",
   "metadata": {
    "tags": []
   },
   "outputs": [
    {
     "data": {
      "text/html": [
       "<div>\n",
       "<style scoped>\n",
       "    .dataframe tbody tr th:only-of-type {\n",
       "        vertical-align: middle;\n",
       "    }\n",
       "\n",
       "    .dataframe tbody tr th {\n",
       "        vertical-align: top;\n",
       "    }\n",
       "\n",
       "    .dataframe thead th {\n",
       "        text-align: right;\n",
       "    }\n",
       "</style>\n",
       "<table border=\"1\" class=\"dataframe\">\n",
       "  <thead>\n",
       "    <tr style=\"text-align: right;\">\n",
       "      <th></th>\n",
       "      <th>mass</th>\n",
       "      <th>zams_file</th>\n",
       "      <th>hcore_file</th>\n",
       "    </tr>\n",
       "  </thead>\n",
       "  <tbody>\n",
       "    <tr>\n",
       "      <th>0</th>\n",
       "      <td>1.00</td>\n",
       "      <td>1.0Msun_zams.mod</td>\n",
       "      <td>1.0Msun_hcore.mod</td>\n",
       "    </tr>\n",
       "    <tr>\n",
       "      <th>1</th>\n",
       "      <td>1.25</td>\n",
       "      <td>1.25Msun_zams.mod</td>\n",
       "      <td>1.25Msun_hcore.mod</td>\n",
       "    </tr>\n",
       "    <tr>\n",
       "      <th>2</th>\n",
       "      <td>1.50</td>\n",
       "      <td>1.5Msun_zams.mod</td>\n",
       "      <td>1.5Msun_hcore.mod</td>\n",
       "    </tr>\n",
       "    <tr>\n",
       "      <th>3</th>\n",
       "      <td>1.75</td>\n",
       "      <td>1.75Msun_zams.mod</td>\n",
       "      <td>1.75Msun_hcore.mod</td>\n",
       "    </tr>\n",
       "    <tr>\n",
       "      <th>4</th>\n",
       "      <td>2.00</td>\n",
       "      <td>2.0Msun_zams.mod</td>\n",
       "      <td>2.0Msun_hcore.mod</td>\n",
       "    </tr>\n",
       "    <tr>\n",
       "      <th>5</th>\n",
       "      <td>2.25</td>\n",
       "      <td>2.25Msun_zams.mod</td>\n",
       "      <td>2.25Msun_hcore.mod</td>\n",
       "    </tr>\n",
       "    <tr>\n",
       "      <th>6</th>\n",
       "      <td>2.50</td>\n",
       "      <td>2.5Msun_zams.mod</td>\n",
       "      <td>2.5Msun_hcore.mod</td>\n",
       "    </tr>\n",
       "    <tr>\n",
       "      <th>7</th>\n",
       "      <td>2.75</td>\n",
       "      <td>2.75Msun_zams.mod</td>\n",
       "      <td>2.75Msun_hcore.mod</td>\n",
       "    </tr>\n",
       "    <tr>\n",
       "      <th>8</th>\n",
       "      <td>3.00</td>\n",
       "      <td>3.0Msun_zams.mod</td>\n",
       "      <td>3.0Msun_hcore.mod</td>\n",
       "    </tr>\n",
       "    <tr>\n",
       "      <th>9</th>\n",
       "      <td>3.25</td>\n",
       "      <td>3.25Msun_zams.mod</td>\n",
       "      <td>3.25Msun_hcore.mod</td>\n",
       "    </tr>\n",
       "    <tr>\n",
       "      <th>10</th>\n",
       "      <td>3.50</td>\n",
       "      <td>3.5Msun_zams.mod</td>\n",
       "      <td>3.5Msun_hcore.mod</td>\n",
       "    </tr>\n",
       "    <tr>\n",
       "      <th>11</th>\n",
       "      <td>3.75</td>\n",
       "      <td>3.75Msun_zams.mod</td>\n",
       "      <td>3.75Msun_hcore.mod</td>\n",
       "    </tr>\n",
       "    <tr>\n",
       "      <th>12</th>\n",
       "      <td>4.00</td>\n",
       "      <td>4.0Msun_zams.mod</td>\n",
       "      <td>4.0Msun_hcore.mod</td>\n",
       "    </tr>\n",
       "    <tr>\n",
       "      <th>13</th>\n",
       "      <td>4.25</td>\n",
       "      <td>4.25Msun_zams.mod</td>\n",
       "      <td>4.25Msun_hcore.mod</td>\n",
       "    </tr>\n",
       "    <tr>\n",
       "      <th>14</th>\n",
       "      <td>4.50</td>\n",
       "      <td>4.5Msun_zams.mod</td>\n",
       "      <td>4.5Msun_hcore.mod</td>\n",
       "    </tr>\n",
       "    <tr>\n",
       "      <th>15</th>\n",
       "      <td>4.75</td>\n",
       "      <td>4.75Msun_zams.mod</td>\n",
       "      <td>4.75Msun_hcore.mod</td>\n",
       "    </tr>\n",
       "    <tr>\n",
       "      <th>16</th>\n",
       "      <td>5.00</td>\n",
       "      <td>5.0Msun_zams.mod</td>\n",
       "      <td>5.0Msun_hcore.mod</td>\n",
       "    </tr>\n",
       "  </tbody>\n",
       "</table>\n",
       "</div>"
      ],
      "text/plain": [
       "    mass          zams_file          hcore_file\n",
       "0   1.00   1.0Msun_zams.mod   1.0Msun_hcore.mod\n",
       "1   1.25  1.25Msun_zams.mod  1.25Msun_hcore.mod\n",
       "2   1.50   1.5Msun_zams.mod   1.5Msun_hcore.mod\n",
       "3   1.75  1.75Msun_zams.mod  1.75Msun_hcore.mod\n",
       "4   2.00   2.0Msun_zams.mod   2.0Msun_hcore.mod\n",
       "5   2.25  2.25Msun_zams.mod  2.25Msun_hcore.mod\n",
       "6   2.50   2.5Msun_zams.mod   2.5Msun_hcore.mod\n",
       "7   2.75  2.75Msun_zams.mod  2.75Msun_hcore.mod\n",
       "8   3.00   3.0Msun_zams.mod   3.0Msun_hcore.mod\n",
       "9   3.25  3.25Msun_zams.mod  3.25Msun_hcore.mod\n",
       "10  3.50   3.5Msun_zams.mod   3.5Msun_hcore.mod\n",
       "11  3.75  3.75Msun_zams.mod  3.75Msun_hcore.mod\n",
       "12  4.00   4.0Msun_zams.mod   4.0Msun_hcore.mod\n",
       "13  4.25  4.25Msun_zams.mod  4.25Msun_hcore.mod\n",
       "14  4.50   4.5Msun_zams.mod   4.5Msun_hcore.mod\n",
       "15  4.75  4.75Msun_zams.mod  4.75Msun_hcore.mod\n",
       "16  5.00   5.0Msun_zams.mod   5.0Msun_hcore.mod"
      ]
     },
     "execution_count": 3,
     "metadata": {},
     "output_type": "execute_result"
    }
   ],
   "source": [
    "m1=1.0\n",
    "m2=5\n",
    "dm=0.25\n",
    "df = create_table(m1,m2,dm)\n",
    "df"
   ]
  },
  {
   "cell_type": "markdown",
   "id": "adecf012-3218-4b99-a4d6-de1bfd4c082f",
   "metadata": {
    "tags": []
   },
   "source": [
    "Let's start by generating ZAMS stars from pMS collapse. To generate a ZAMS star, you will need to specify an inlist that includes the function \"create_pre_main_sequence_model = .true.\" My inlist is called \"inlist_create_zams\"."
   ]
  },
  {
   "cell_type": "code",
   "execution_count": 4,
   "id": "4ed308b6-aa49-46e5-856b-a5df37c17538",
   "metadata": {
    "tags": []
   },
   "outputs": [
    {
     "data": {
      "text/plain": [
       "[MesaJob({\"job_id\": 1805, \"status\": \"PENDING\", \"worker_size\": \"SMALL\", \"job_type\": \"MESA\", \"command\": \"./mk && ./rn\", \"file_dir\": \"0009\", \"with_gpu\": false, \"tags\": null}),\n",
       " MesaJob({\"job_id\": 1813, \"status\": \"PENDING\", \"worker_size\": \"SMALL\", \"job_type\": \"MESA\", \"command\": \"./mk && ./rn\", \"file_dir\": \"0017\", \"with_gpu\": false, \"tags\": null}),\n",
       " MesaJob({\"job_id\": 1807, \"status\": \"PENDING\", \"worker_size\": \"SMALL\", \"job_type\": \"MESA\", \"command\": \"./mk && ./rn\", \"file_dir\": \"0011\", \"with_gpu\": false, \"tags\": null}),\n",
       " MesaJob({\"job_id\": 1809, \"status\": \"PENDING\", \"worker_size\": \"SMALL\", \"job_type\": \"MESA\", \"command\": \"./mk && ./rn\", \"file_dir\": \"0013\", \"with_gpu\": false, \"tags\": null}),\n",
       " MesaJob({\"job_id\": 1797, \"status\": \"PENDING\", \"worker_size\": \"SMALL\", \"job_type\": \"MESA\", \"command\": \"./mk && ./rn\", \"file_dir\": \"0001\", \"with_gpu\": false, \"tags\": null}),\n",
       " MesaJob({\"job_id\": 1803, \"status\": \"PENDING\", \"worker_size\": \"SMALL\", \"job_type\": \"MESA\", \"command\": \"./mk && ./rn\", \"file_dir\": \"0007\", \"with_gpu\": false, \"tags\": null}),\n",
       " MesaJob({\"job_id\": 1812, \"status\": \"PENDING\", \"worker_size\": \"SMALL\", \"job_type\": \"MESA\", \"command\": \"./mk && ./rn\", \"file_dir\": \"0016\", \"with_gpu\": false, \"tags\": null}),\n",
       " MesaJob({\"job_id\": 1811, \"status\": \"PENDING\", \"worker_size\": \"SMALL\", \"job_type\": \"MESA\", \"command\": \"./mk && ./rn\", \"file_dir\": \"0015\", \"with_gpu\": false, \"tags\": null}),\n",
       " MesaJob({\"job_id\": 1800, \"status\": \"PENDING\", \"worker_size\": \"SMALL\", \"job_type\": \"MESA\", \"command\": \"./mk && ./rn\", \"file_dir\": \"0004\", \"with_gpu\": false, \"tags\": null}),\n",
       " MesaJob({\"job_id\": 1806, \"status\": \"PENDING\", \"worker_size\": \"SMALL\", \"job_type\": \"MESA\", \"command\": \"./mk && ./rn\", \"file_dir\": \"0010\", \"with_gpu\": false, \"tags\": null}),\n",
       " MesaJob({\"job_id\": 1799, \"status\": \"PENDING\", \"worker_size\": \"SMALL\", \"job_type\": \"MESA\", \"command\": \"./mk && ./rn\", \"file_dir\": \"0003\", \"with_gpu\": false, \"tags\": null}),\n",
       " MesaJob({\"job_id\": 1801, \"status\": \"PENDING\", \"worker_size\": \"SMALL\", \"job_type\": \"MESA\", \"command\": \"./mk && ./rn\", \"file_dir\": \"0005\", \"with_gpu\": false, \"tags\": null}),\n",
       " MesaJob({\"job_id\": 1802, \"status\": \"PENDING\", \"worker_size\": \"SMALL\", \"job_type\": \"MESA\", \"command\": \"./mk && ./rn\", \"file_dir\": \"0006\", \"with_gpu\": false, \"tags\": null}),\n",
       " MesaJob({\"job_id\": 1808, \"status\": \"PENDING\", \"worker_size\": \"SMALL\", \"job_type\": \"MESA\", \"command\": \"./mk && ./rn\", \"file_dir\": \"0012\", \"with_gpu\": false, \"tags\": null}),\n",
       " MesaJob({\"job_id\": 1804, \"status\": \"PENDING\", \"worker_size\": \"SMALL\", \"job_type\": \"MESA\", \"command\": \"./mk && ./rn\", \"file_dir\": \"0008\", \"with_gpu\": false, \"tags\": null}),\n",
       " MesaJob({\"job_id\": 1810, \"status\": \"PENDING\", \"worker_size\": \"SMALL\", \"job_type\": \"MESA\", \"command\": \"./mk && ./rn\", \"file_dir\": \"0014\", \"with_gpu\": false, \"tags\": null}),\n",
       " MesaJob({\"job_id\": 1798, \"status\": \"PENDING\", \"worker_size\": \"SMALL\", \"job_type\": \"MESA\", \"command\": \"./mk && ./rn\", \"file_dir\": \"0002\", \"with_gpu\": false, \"tags\": null})]"
      ]
     },
     "execution_count": 4,
     "metadata": {},
     "output_type": "execute_result"
    }
   ],
   "source": [
    "jobs = camber.mesa.create_scatter_job(\n",
    "    param_sets=[\n",
    "        {\n",
    "            \"INLIST\": \"'inlist_create_zams'\",\n",
    "            \"OUTPUT_MOD\": '\"' + str(row['zams_file']) + '\"',  # Add extra quotes around the value\n",
    "            \"INIT_MASS\": str(row['mass'])\n",
    "        }\n",
    "        for _, row in df.iterrows()\n",
    "    ],\n",
    "    inlist_files = ['inlist','inlist_create_zams'],\n",
    "    worker_size='SMALL'\n",
    ")\n",
    "jobs"
   ]
  },
  {
   "cell_type": "markdown",
   "id": "be260baa-2a51-4329-8b4f-4ff48a9c5e9b",
   "metadata": {
    "tags": []
   },
   "source": [
    "This takes just a few minutes. Just like that we created all our ZAMS files! A final ZAMS model is created in each of the respective directories. It is appended with \"zams.mod\"."
   ]
  },
  {
   "cell_type": "markdown",
   "id": "a731c927-b182-438e-b24b-9c17386e764c",
   "metadata": {},
   "source": [
    "These zams mod files are the requisite input files to evolve our stars from ZAMS to the next stage of evolution (H-core burning in our case). Let's move these files to our main directory."
   ]
  },
  {
   "cell_type": "code",
   "execution_count": 24,
   "id": "89599525-8685-4ac4-b1cf-b0b246be2169",
   "metadata": {
    "tags": []
   },
   "outputs": [],
   "source": [
    "!find /home/melinda -maxdepth 1 -type d -name \"00*\" -exec sh -c 'cp \"$1\"/*.mod /home/melinda/' sh {} \\;"
   ]
  },
  {
   "cell_type": "markdown",
   "id": "6db9762e-c398-4aaa-a305-c105b8fb3762",
   "metadata": {},
   "source": [
    "Let's remove the old directories, as they are no longer needed."
   ]
  },
  {
   "cell_type": "code",
   "execution_count": 26,
   "id": "9ec82171-f822-4ad5-a6d4-d98104513e6f",
   "metadata": {
    "tags": []
   },
   "outputs": [],
   "source": [
    "!rm -r 00*"
   ]
  },
  {
   "cell_type": "markdown",
   "id": "d8569f02-88e2-4178-86b9-79a1a67dc2a2",
   "metadata": {},
   "source": [
    "Now let's evolve each of our ZAMS stellar tracks along the H-core burning sequence."
   ]
  },
  {
   "cell_type": "code",
   "execution_count": 27,
   "id": "62b592ef-4dc4-4b83-b5ab-2e6f8e5e0104",
   "metadata": {
    "tags": []
   },
   "outputs": [
    {
     "data": {
      "text/plain": [
       "[{'INLIST': \"'inlist_hcoreburning'\",\n",
       "  'INPUT_MOD': '\"1.0Msun_zams.mod\"',\n",
       "  'INIT_MASS': '1.0',\n",
       "  'OUTPUT_MOD': '\"1.0Msun_hcore.mod\"'},\n",
       " {'INLIST': \"'inlist_hcoreburning'\",\n",
       "  'INPUT_MOD': '\"1.25Msun_zams.mod\"',\n",
       "  'INIT_MASS': '1.25',\n",
       "  'OUTPUT_MOD': '\"1.25Msun_hcore.mod\"'},\n",
       " {'INLIST': \"'inlist_hcoreburning'\",\n",
       "  'INPUT_MOD': '\"1.5Msun_zams.mod\"',\n",
       "  'INIT_MASS': '1.5',\n",
       "  'OUTPUT_MOD': '\"1.5Msun_hcore.mod\"'},\n",
       " {'INLIST': \"'inlist_hcoreburning'\",\n",
       "  'INPUT_MOD': '\"1.75Msun_zams.mod\"',\n",
       "  'INIT_MASS': '1.75',\n",
       "  'OUTPUT_MOD': '\"1.75Msun_hcore.mod\"'},\n",
       " {'INLIST': \"'inlist_hcoreburning'\",\n",
       "  'INPUT_MOD': '\"2.0Msun_zams.mod\"',\n",
       "  'INIT_MASS': '2.0',\n",
       "  'OUTPUT_MOD': '\"2.0Msun_hcore.mod\"'},\n",
       " {'INLIST': \"'inlist_hcoreburning'\",\n",
       "  'INPUT_MOD': '\"2.25Msun_zams.mod\"',\n",
       "  'INIT_MASS': '2.25',\n",
       "  'OUTPUT_MOD': '\"2.25Msun_hcore.mod\"'},\n",
       " {'INLIST': \"'inlist_hcoreburning'\",\n",
       "  'INPUT_MOD': '\"2.5Msun_zams.mod\"',\n",
       "  'INIT_MASS': '2.5',\n",
       "  'OUTPUT_MOD': '\"2.5Msun_hcore.mod\"'},\n",
       " {'INLIST': \"'inlist_hcoreburning'\",\n",
       "  'INPUT_MOD': '\"2.75Msun_zams.mod\"',\n",
       "  'INIT_MASS': '2.75',\n",
       "  'OUTPUT_MOD': '\"2.75Msun_hcore.mod\"'},\n",
       " {'INLIST': \"'inlist_hcoreburning'\",\n",
       "  'INPUT_MOD': '\"3.0Msun_zams.mod\"',\n",
       "  'INIT_MASS': '3.0',\n",
       "  'OUTPUT_MOD': '\"3.0Msun_hcore.mod\"'},\n",
       " {'INLIST': \"'inlist_hcoreburning'\",\n",
       "  'INPUT_MOD': '\"3.25Msun_zams.mod\"',\n",
       "  'INIT_MASS': '3.25',\n",
       "  'OUTPUT_MOD': '\"3.25Msun_hcore.mod\"'},\n",
       " {'INLIST': \"'inlist_hcoreburning'\",\n",
       "  'INPUT_MOD': '\"3.5Msun_zams.mod\"',\n",
       "  'INIT_MASS': '3.5',\n",
       "  'OUTPUT_MOD': '\"3.5Msun_hcore.mod\"'},\n",
       " {'INLIST': \"'inlist_hcoreburning'\",\n",
       "  'INPUT_MOD': '\"3.75Msun_zams.mod\"',\n",
       "  'INIT_MASS': '3.75',\n",
       "  'OUTPUT_MOD': '\"3.75Msun_hcore.mod\"'},\n",
       " {'INLIST': \"'inlist_hcoreburning'\",\n",
       "  'INPUT_MOD': '\"4.0Msun_zams.mod\"',\n",
       "  'INIT_MASS': '4.0',\n",
       "  'OUTPUT_MOD': '\"4.0Msun_hcore.mod\"'},\n",
       " {'INLIST': \"'inlist_hcoreburning'\",\n",
       "  'INPUT_MOD': '\"4.25Msun_zams.mod\"',\n",
       "  'INIT_MASS': '4.25',\n",
       "  'OUTPUT_MOD': '\"4.25Msun_hcore.mod\"'},\n",
       " {'INLIST': \"'inlist_hcoreburning'\",\n",
       "  'INPUT_MOD': '\"4.5Msun_zams.mod\"',\n",
       "  'INIT_MASS': '4.5',\n",
       "  'OUTPUT_MOD': '\"4.5Msun_hcore.mod\"'},\n",
       " {'INLIST': \"'inlist_hcoreburning'\",\n",
       "  'INPUT_MOD': '\"4.75Msun_zams.mod\"',\n",
       "  'INIT_MASS': '4.75',\n",
       "  'OUTPUT_MOD': '\"4.75Msun_hcore.mod\"'},\n",
       " {'INLIST': \"'inlist_hcoreburning'\",\n",
       "  'INPUT_MOD': '\"5.0Msun_zams.mod\"',\n",
       "  'INIT_MASS': '5.0',\n",
       "  'OUTPUT_MOD': '\"5.0Msun_hcore.mod\"'}]"
      ]
     },
     "execution_count": 27,
     "metadata": {},
     "output_type": "execute_result"
    }
   ],
   "source": [
    "param_sets=[\n",
    "    {   \n",
    "        \"INLIST\": \"'inlist_hcoreburning'\",\n",
    "        \"INPUT_MOD\": '\"' + str(row['zams_file']) + '\"',  # Add extra quotes around the value\n",
    "        \"INIT_MASS\": str(row['mass']),\n",
    "        \"OUTPUT_MOD\": '\"' + str(row['hcore_file']) + '\"',  # Add extra quotes around the value\n",
    "    }\n",
    "    for _, row in df.iterrows()]\n",
    "param_sets"
   ]
  },
  {
   "cell_type": "code",
   "execution_count": 29,
   "id": "c6bf48eb-3ea4-4a5f-be06-7446dc7e584b",
   "metadata": {
    "tags": []
   },
   "outputs": [],
   "source": [
    "zams_mod_files = [file for file in os.listdir(\"./\") if file.endswith(\"zams.mod\")]\n",
    "zams_mod_files=sorted(zams_mod_files)"
   ]
  },
  {
   "cell_type": "code",
   "execution_count": 30,
   "id": "8a89edeb-9fee-42d9-ac55-a25085ee1cf3",
   "metadata": {
    "tags": []
   },
   "outputs": [
    {
     "data": {
      "text/plain": [
       "[MesaJob({\"job_id\": 1817, \"status\": \"PENDING\", \"worker_size\": \"SMALL\", \"job_type\": \"MESA\", \"command\": \"./mk && ./rn\", \"file_dir\": \"0004\", \"with_gpu\": false, \"tags\": null}),\n",
       " MesaJob({\"job_id\": 1829, \"status\": \"PENDING\", \"worker_size\": \"SMALL\", \"job_type\": \"MESA\", \"command\": \"./mk && ./rn\", \"file_dir\": \"0016\", \"with_gpu\": false, \"tags\": null}),\n",
       " MesaJob({\"job_id\": 1828, \"status\": \"PENDING\", \"worker_size\": \"SMALL\", \"job_type\": \"MESA\", \"command\": \"./mk && ./rn\", \"file_dir\": \"0015\", \"with_gpu\": false, \"tags\": null}),\n",
       " MesaJob({\"job_id\": 1823, \"status\": \"PENDING\", \"worker_size\": \"SMALL\", \"job_type\": \"MESA\", \"command\": \"./mk && ./rn\", \"file_dir\": \"0010\", \"with_gpu\": false, \"tags\": null}),\n",
       " MesaJob({\"job_id\": 1814, \"status\": \"RUNNING\", \"worker_size\": \"SMALL\", \"job_type\": \"MESA\", \"command\": \"./mk && ./rn\", \"file_dir\": \"0002\", \"with_gpu\": false, \"tags\": null}),\n",
       " MesaJob({\"job_id\": 1824, \"status\": \"PENDING\", \"worker_size\": \"SMALL\", \"job_type\": \"MESA\", \"command\": \"./mk && ./rn\", \"file_dir\": \"0011\", \"with_gpu\": false, \"tags\": null}),\n",
       " MesaJob({\"job_id\": 1826, \"status\": \"PENDING\", \"worker_size\": \"SMALL\", \"job_type\": \"MESA\", \"command\": \"./mk && ./rn\", \"file_dir\": \"0013\", \"with_gpu\": false, \"tags\": null}),\n",
       " MesaJob({\"job_id\": 1819, \"status\": \"PENDING\", \"worker_size\": \"SMALL\", \"job_type\": \"MESA\", \"command\": \"./mk && ./rn\", \"file_dir\": \"0006\", \"with_gpu\": false, \"tags\": null}),\n",
       " MesaJob({\"job_id\": 1822, \"status\": \"PENDING\", \"worker_size\": \"SMALL\", \"job_type\": \"MESA\", \"command\": \"./mk && ./rn\", \"file_dir\": \"0009\", \"with_gpu\": false, \"tags\": null}),\n",
       " MesaJob({\"job_id\": 1827, \"status\": \"PENDING\", \"worker_size\": \"SMALL\", \"job_type\": \"MESA\", \"command\": \"./mk && ./rn\", \"file_dir\": \"0014\", \"with_gpu\": false, \"tags\": null}),\n",
       " MesaJob({\"job_id\": 1816, \"status\": \"RUNNING\", \"worker_size\": \"SMALL\", \"job_type\": \"MESA\", \"command\": \"./mk && ./rn\", \"file_dir\": \"0003\", \"with_gpu\": false, \"tags\": null}),\n",
       " MesaJob({\"job_id\": 1815, \"status\": \"RUNNING\", \"worker_size\": \"SMALL\", \"job_type\": \"MESA\", \"command\": \"./mk && ./rn\", \"file_dir\": \"0001\", \"with_gpu\": false, \"tags\": null}),\n",
       " MesaJob({\"job_id\": 1821, \"status\": \"PENDING\", \"worker_size\": \"SMALL\", \"job_type\": \"MESA\", \"command\": \"./mk && ./rn\", \"file_dir\": \"0008\", \"with_gpu\": false, \"tags\": null}),\n",
       " MesaJob({\"job_id\": 1818, \"status\": \"PENDING\", \"worker_size\": \"SMALL\", \"job_type\": \"MESA\", \"command\": \"./mk && ./rn\", \"file_dir\": \"0005\", \"with_gpu\": false, \"tags\": null}),\n",
       " MesaJob({\"job_id\": 1825, \"status\": \"RUNNING\", \"worker_size\": \"SMALL\", \"job_type\": \"MESA\", \"command\": \"./mk && ./rn\", \"file_dir\": \"0012\", \"with_gpu\": false, \"tags\": null}),\n",
       " MesaJob({\"job_id\": 1830, \"status\": \"PENDING\", \"worker_size\": \"SMALL\", \"job_type\": \"MESA\", \"command\": \"./mk && ./rn\", \"file_dir\": \"0017\", \"with_gpu\": false, \"tags\": null}),\n",
       " MesaJob({\"job_id\": 1820, \"status\": \"RUNNING\", \"worker_size\": \"SMALL\", \"job_type\": \"MESA\", \"command\": \"./mk && ./rn\", \"file_dir\": \"0007\", \"with_gpu\": false, \"tags\": null})]"
      ]
     },
     "execution_count": 30,
     "metadata": {},
     "output_type": "execute_result"
    }
   ],
   "source": [
    "jobs = camber.mesa.create_scatter_job(\n",
    "    param_sets=[\n",
    "        {   \"INLIST\": \"'inlist_hcoreburning'\",\n",
    "            \"INPUT_MOD\":str(row['zams_file']),\n",
    "            \"OUTPUT_MOD\": str(row['hcore_file']),\n",
    "            \"INIT_MASS\": str(row['mass'])\n",
    "        }\n",
    "        for _, row in df.iterrows()\n",
    "    ],\n",
    "    inlist_files = ['inlist','inlist_hcoreburning'],\n",
    "    model_files=zams_mod_files,\n",
    "    worker_size='SMALL'\n",
    ")\n",
    "jobs"
   ]
  },
  {
   "cell_type": "markdown",
   "id": "cf416ecc-e379-4ccd-ac07-134d739e1ac8",
   "metadata": {},
   "source": [
    "This too takes just a few minutes to complete, but you can start plotting as soon as your files begin to be generated."
   ]
  },
  {
   "cell_type": "markdown",
   "id": "47103995-6427-4c94-b583-944c2078194d",
   "metadata": {},
   "source": [
    "Awesome, let's plot our results now that it is all done! "
   ]
  },
  {
   "cell_type": "code",
   "execution_count": null,
   "id": "298b007f-1138-4921-b156-acc4385f084e",
   "metadata": {
    "tags": []
   },
   "outputs": [],
   "source": [
    "fig = plt.figure(figsize=(4,6))\n",
    "maxx=4.5\n",
    "minx=3.25\n",
    "miny=-0.5\n",
    "maxy=3.5\n",
    "\n",
    "dirs = sorted([file for file in os.listdir(\"./\") if file.startswith(\"00\")])\n",
    "for d in dirs:\n",
    "    h=mr.MesaData(str(d)+'/LOGS/history.data')\n",
    "    plt.plot(h.log_Teff,h.log_L,linewidth=0.8,zorder=1,label=str(round(h.star_mass[0],4))+' $M_{\\odot}$')\n",
    "plt.xlim(maxx,minx)\n",
    "plt.ylim(miny,maxy)\n",
    "plt.grid(alpha=0.25)\n",
    "plt.legend(frameon=True,bbox_to_anchor=(1, 1))\n",
    "plt.xlabel('$\\log$(Teff)')\n",
    "plt.ylabel('$\\log$(L)')"
   ]
  },
  {
   "cell_type": "code",
   "execution_count": null,
   "id": "00be85cf-b5f1-40b5-ba50-64933a4a01b9",
   "metadata": {},
   "outputs": [],
   "source": []
  }
 ],
 "metadata": {
  "kernelspec": {
   "display_name": "PyCamber",
   "language": "python",
   "name": "python3"
  },
  "language_info": {
   "codemirror_mode": {
    "name": "ipython",
    "version": 3
   },
   "file_extension": ".py",
   "mimetype": "text/x-python",
   "name": "python",
   "nbconvert_exporter": "python",
   "pygments_lexer": "ipython3",
   "version": "3.10.10"
  }
 },
 "nbformat": 4,
 "nbformat_minor": 5
}
